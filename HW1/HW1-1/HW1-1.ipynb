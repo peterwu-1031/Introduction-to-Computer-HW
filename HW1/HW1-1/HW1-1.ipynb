{
 "cells": [
  {
   "cell_type": "code",
   "execution_count": 1,
   "metadata": {},
   "outputs": [
    {
     "name": "stdout",
     "output_type": "stream",
     "text": [
      "radius =  3.5 , volume =  179.5943800302165\n",
      "radius =  6.5 , volume =  1150.3465099894627\n",
      "radius =  9.5 , volume =  3591.364001828732\n"
     ]
    }
   ],
   "source": [
    "#Problem1\n",
    "import math\n",
    "def sphere_volume(radius):\n",
    "    volume=(radius**3)*4/3*math.pi\n",
    "    print(\"radius = \",radius,\", volume = \",volume)\n",
    "sphere_volume(3.5)\n",
    "sphere_volume(6.5)\n",
    "sphere_volume(9.5)"
   ]
  },
  {
   "cell_type": "code",
   "execution_count": 16,
   "metadata": {},
   "outputs": [
    {
     "name": "stdout",
     "output_type": "stream",
     "text": [
      "1\n",
      "the\n",
      "\t\n",
      "2\n",
      "of\n",
      "\t\n",
      "3\n",
      "a\n",
      "\t\n",
      "4\n",
      "black\n",
      "\t\n",
      "5\n",
      "that\n",
      "hole\n",
      "to\n",
      "name\n",
      "\t\n"
     ]
    }
   ],
   "source": [
    "#Problem2\n",
    "text=\"One year ago, scientists captured the unphotographable when the Event Horizon Telescope unveiled a fiery orange ring on a black background that became instantly recognizable. Behold, the first photo of a black hole. The black hole in that image lurks at the heart of a galaxy known as M87, which is the sort of moniker modern astronomers use to name what they study. The black hole doesn't even get its own name, independent of the galaxy that surrounds it. It's a, let's say, abstruse way to refer to an object containing billions of times the mass of our sun packed together unimaginably densely. A program affiliated with one of the sites involved in the discovery quickly offered an alternative name, Pōwehi, and a new way of thinking about how astronomers could reflect the communities they work within.\"\n",
    "words=text.replace(',','').replace('.','').split(' ')\n",
    "dictionary={}\n",
    "for i in words:\n",
    "    if(i in dictionary):\n",
    "        dictionary[i]+=1\n",
    "    else:\n",
    "        dictionary[i]=1\n",
    "for i in range(5):\n",
    "    print(i+1)\n",
    "    maximum=max(dictionary.values())\n",
    "    for i in dictionary:\n",
    "        if(dictionary[i]==maximum):\n",
    "            print(i)\n",
    "            dictionary[i]=0\n",
    "    print('\\t')"
   ]
  },
  {
   "cell_type": "code",
   "execution_count": 12,
   "metadata": {},
   "outputs": [
    {
     "name": "stdout",
     "output_type": "stream",
     "text": [
      "[6, 14, 24, 36, 50]\n",
      "[6, 14, 24, 36, 50]\n"
     ]
    }
   ],
   "source": [
    "#Problem3\n",
    "#Version1\n",
    "la = [1, 2, 3, 4, 5]\n",
    "lb = [6, 7, 8, 9, 10]\n",
    "lc = list(map(lambda x, y: x*y, la, lb))\n",
    "print(lc) # Should print out [6, 14, 24, 36, 50]\n",
    "#Version2\n",
    "la = [1, 2, 3, 4, 5]\n",
    "lb = [6, 7, 8, 9, 10]\n",
    "lc = list(list(zip(la,lb))[i][0]*list(zip(la,lb))[i][1] for i in range(len(list(zip(la,lb)))))\n",
    "print(lc) # Should print out [6, 14, 24, 36, 50]"
   ]
  },
  {
   "cell_type": "code",
   "execution_count": 14,
   "metadata": {},
   "outputs": [
    {
     "name": "stdout",
     "output_type": "stream",
     "text": [
      "[1, 2, 3, 11, 13, 15, 17]\n",
      "['1', '2', 3, '11', 13, '15', 17]\n"
     ]
    }
   ],
   "source": [
    "#Problem4\n",
    "#PartA\n",
    "l = [1, 2, \"3\", 11, \"13\", 15, \"17\"]\n",
    "lc = list(int(i) for i in l)\n",
    "print(lc) # the output should be [1, 2, 3, 11, 13, 15, 17]\n",
    "#PartB\n",
    "l = [1, 2, \"3\", 11, \"13\", 15, \"17\"]\n",
    "lc = list(int(i) if type(i)==str else str(i) for i in l)\n",
    "print(lc) # the output should be ['1', '2', 3, '11', 13, '15', 17]"
   ]
  },
  {
   "cell_type": "code",
   "execution_count": 18,
   "metadata": {},
   "outputs": [
    {
     "name": "stdout",
     "output_type": "stream",
     "text": [
      "v(6,8)\n",
      "v(8,10)\n",
      "v(8,10)\n",
      "11\n",
      "17\n"
     ]
    }
   ],
   "source": [
    "#Problem5\n",
    "#Definition of the Vector class here\n",
    "class Vector:\n",
    "    def __init__(vector1,x=0,y=0):\n",
    "        vector1.x = x\n",
    "        vector1.y = y\n",
    "        \n",
    "    def __add__(vector1,vector2):\n",
    "        vector12 = Vector()\n",
    "        if type(vector2)==Vector:\n",
    "            vector12.x = vector1.x + vector2.x\n",
    "            vector12.y = vector1.y + vector2.y\n",
    "        else:\n",
    "            vector12.x = vector1.x + vector2[0]\n",
    "            vector12.y = vector1.y + vector2[1]\n",
    "        return vector12\n",
    "    \n",
    "    def __mul__(vector1,vector2):\n",
    "        if type(vector2)==Vector:\n",
    "            product = vector1.x*vector2.x+vector1.y*vector2.y\n",
    "            return product\n",
    "        else:\n",
    "            product = vector1.x*vector2[0]+vector1.y*vector2[1]\n",
    "            return product\n",
    "        \n",
    "    def __str__(vector):\n",
    "        return (f'v({vector.x},{vector.y})')\n",
    "#verifiction code\n",
    "p1 = Vector(1,2)\n",
    "p2 = p1 + (5, 6)\n",
    "p3 = p1 + [7, 8]\n",
    "p4 = p1 + (7, 8, 9)\n",
    "\n",
    "print(p2)  # You should get v(6, 8)\n",
    "print(p3)  # You should get v(8, 10)\n",
    "print(p4)  # You shuold also get v(8, 10)\n",
    "\n",
    "p5  = Vector(3, 4)\n",
    "n7 = p1 * p5\n",
    "n8 = p1 * (5, 6)\n",
    "print(n7)  # You should get 11\n",
    "print(n8)  # You should get 17"
   ]
  },
  {
   "cell_type": "code",
   "execution_count": null,
   "metadata": {},
   "outputs": [],
   "source": []
  }
 ],
 "metadata": {
  "kernelspec": {
   "display_name": "Python 3",
   "language": "python",
   "name": "python3"
  },
  "language_info": {
   "codemirror_mode": {
    "name": "ipython",
    "version": 3
   },
   "file_extension": ".py",
   "mimetype": "text/x-python",
   "name": "python",
   "nbconvert_exporter": "python",
   "pygments_lexer": "ipython3",
   "version": "3.7.4"
  }
 },
 "nbformat": 4,
 "nbformat_minor": 2
}
